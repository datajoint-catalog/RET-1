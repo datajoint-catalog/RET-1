{
 "cells": [
  {
   "cell_type": "code",
   "execution_count": 1,
   "metadata": {},
   "outputs": [],
   "source": [
    "import datajoint as dj\n",
    "dj.config['database.host'] = 'tutorial-db.datajoint.io'\n",
    "dj.config['database.user'] = 'dimitri'\n",
    "dj.config['names.djcat_lab'] = 'catalog_lab_dimitri'"
   ]
  },
  {
   "cell_type": "code",
   "execution_count": 2,
   "metadata": {},
   "outputs": [
    {
     "name": "stdout",
     "output_type": "stream",
     "text": [
      "Connecting dimitri@tutorial-db.datajoint.io:3306\n"
     ]
    }
   ],
   "source": [
    "import djcat_lab as lab"
   ]
  },
  {
   "cell_type": "code",
   "execution_count": 3,
   "metadata": {
    "collapsed": true
   },
   "outputs": [],
   "source": [
    "schema = dj.schema('catalog_ret1_dimitri', locals())"
   ]
  },
  {
   "cell_type": "code",
   "execution_count": 4,
   "metadata": {
    "collapsed": true
   },
   "outputs": [],
   "source": [
    "@schema\n",
    "class Prep(dj.Manual):\n",
    "    definition = \"\"\"  # Retinal prep\n",
    "    -> lab.Subject\n",
    "    ---\n",
    "    prep  : smallint \n",
    "    side  : enum('left', 'right')      \n",
    "    \"\"\""
   ]
  },
  {
   "cell_type": "code",
   "execution_count": 5,
   "metadata": {},
   "outputs": [
    {
     "data": {
      "image/svg+xml": [
       "<svg height=\"188pt\" viewBox=\"0.00 0.00 351.00 188.00\" width=\"351pt\" xmlns=\"http://www.w3.org/2000/svg\" xmlns:xlink=\"http://www.w3.org/1999/xlink\">\n",
       "<g class=\"graph\" id=\"graph0\" transform=\"scale(1 1) rotate(0) translate(4 184)\">\n",
       "<polygon fill=\"white\" points=\"-4,4 -4,-184 347,-184 347,4 -4,4\" stroke=\"none\"/>\n",
       "<!-- lab.Publication -->\n",
       "<g class=\"node\" id=\"node1\"><title>lab.Publication</title>\n",
       "<polygon fill=\"#00ff00\" fill-opacity=\"0.188235\" points=\"94.0396,-107.5 -0.0395582,-107.5 -0.0395582,-72.5 94.0396,-72.5 94.0396,-107.5\" stroke=\"#00ff00\" stroke-opacity=\"0.188235\"/>\n",
       "<text fill=\"darkgreen\" font-family=\"arial\" font-size=\"12.00\" text-anchor=\"middle\" x=\"47\" y=\"-87.2994\">lab.Publication</text>\n",
       "</g>\n",
       "<!-- lab.RelatedPublication -->\n",
       "<g class=\"node\" id=\"node5\"><title>lab.RelatedPublication</title>\n",
       "<polygon fill=\"#00ff00\" fill-opacity=\"0.188235\" points=\"135.56,-35.5 0.439902,-35.5 0.439902,-0.5 135.56,-0.5 135.56,-35.5\" stroke=\"#00ff00\" stroke-opacity=\"0.188235\"/>\n",
       "<text fill=\"darkgreen\" font-family=\"arial\" font-size=\"12.00\" text-anchor=\"middle\" x=\"68\" y=\"-15.2994\">lab.RelatedPublication</text>\n",
       "</g>\n",
       "<!-- lab.Publication&#45;&gt;lab.RelatedPublication -->\n",
       "<g class=\"edge\" id=\"edge1\"><title>lab.Publication-&gt;lab.RelatedPublication</title>\n",
       "<path d=\"M51.9767,-72.411C55.2758,-61.4141 59.5918,-47.0274 62.9131,-35.9562\" fill=\"none\" stroke=\"#000000\" stroke-opacity=\"0.250980\" stroke-width=\"0.75\"/>\n",
       "</g>\n",
       "<!-- lab.StudyKeyword -->\n",
       "<g class=\"node\" id=\"node2\"><title>lab.StudyKeyword</title>\n",
       "<polygon fill=\"#00ff00\" fill-opacity=\"0.188235\" points=\"277.041,-35.5 164.959,-35.5 164.959,-0.5 277.041,-0.5 277.041,-35.5\" stroke=\"#00ff00\" stroke-opacity=\"0.188235\"/>\n",
       "<text fill=\"darkgreen\" font-family=\"arial\" font-size=\"12.00\" text-anchor=\"middle\" x=\"221\" y=\"-15.2994\">lab.StudyKeyword</text>\n",
       "</g>\n",
       "<!-- Prep -->\n",
       "<g class=\"node\" id=\"node3\"><title>Prep</title>\n",
       "<polygon fill=\"#00ff00\" fill-opacity=\"0.188235\" points=\"326.509,-107.5 285.491,-107.5 285.491,-72.5 326.509,-72.5 326.509,-107.5\" stroke=\"#00ff00\" stroke-opacity=\"0.188235\"/>\n",
       "<text fill=\"darkgreen\" font-family=\"arial\" font-size=\"12.00\" text-anchor=\"middle\" x=\"306\" y=\"-87.2994\">Prep</text>\n",
       "</g>\n",
       "<!-- lab.Subject -->\n",
       "<g class=\"node\" id=\"node4\"><title>lab.Subject</title>\n",
       "<polygon fill=\"#00ff00\" fill-opacity=\"0.188235\" points=\"343.529,-179.5 268.471,-179.5 268.471,-144.5 343.529,-144.5 343.529,-179.5\" stroke=\"#00ff00\" stroke-opacity=\"0.188235\"/>\n",
       "<text fill=\"darkgreen\" font-family=\"arial\" font-size=\"12.00\" text-anchor=\"middle\" x=\"306\" y=\"-159.299\">lab.Subject</text>\n",
       "</g>\n",
       "<!-- lab.Subject&#45;&gt;Prep -->\n",
       "<g class=\"edge\" id=\"edge2\"><title>lab.Subject-&gt;Prep</title>\n",
       "<path d=\"M306,-144.411C306,-133.414 306,-119.027 306,-107.956\" fill=\"none\" stroke=\"#000000\" stroke-opacity=\"0.250980\" stroke-width=\"2\"/>\n",
       "</g>\n",
       "<!-- lab.Study -->\n",
       "<g class=\"node\" id=\"node6\"><title>lab.Study</title>\n",
       "<polygon fill=\"#00ff00\" fill-opacity=\"0.188235\" points=\"178.025,-107.5 111.975,-107.5 111.975,-72.5 178.025,-72.5 178.025,-107.5\" stroke=\"#00ff00\" stroke-opacity=\"0.188235\"/>\n",
       "<text fill=\"darkgreen\" font-family=\"arial\" font-size=\"12.00\" text-anchor=\"middle\" x=\"145\" y=\"-87.2994\">lab.Study</text>\n",
       "</g>\n",
       "<!-- lab.Study&#45;&gt;lab.StudyKeyword -->\n",
       "<g class=\"edge\" id=\"edge3\"><title>lab.Study-&gt;lab.StudyKeyword</title>\n",
       "<path d=\"M163.011,-72.411C175.038,-61.3333 190.8,-46.8157 202.855,-35.7125\" fill=\"none\" stroke=\"#000000\" stroke-opacity=\"0.250980\" stroke-width=\"0.75\"/>\n",
       "</g>\n",
       "<!-- lab.Study&#45;&gt;lab.RelatedPublication -->\n",
       "<g class=\"edge\" id=\"edge4\"><title>lab.Study-&gt;lab.RelatedPublication</title>\n",
       "<path d=\"M126.752,-72.411C114.567,-61.3333 98.5973,-46.8157 86.3838,-35.7125\" fill=\"none\" stroke=\"#000000\" stroke-opacity=\"0.250980\" stroke-width=\"0.75\"/>\n",
       "</g>\n",
       "<!-- lab.Lab -->\n",
       "<g class=\"node\" id=\"node7\"><title>lab.Lab</title>\n",
       "<polygon fill=\"#00ff00\" fill-opacity=\"0.188235\" points=\"172.526,-179.5 117.474,-179.5 117.474,-144.5 172.526,-144.5 172.526,-179.5\" stroke=\"#00ff00\" stroke-opacity=\"0.188235\"/>\n",
       "<text fill=\"darkgreen\" font-family=\"arial\" font-size=\"12.00\" text-anchor=\"middle\" x=\"145\" y=\"-159.299\">lab.Lab</text>\n",
       "</g>\n",
       "<!-- lab.Lab&#45;&gt;lab.Study -->\n",
       "<g class=\"edge\" id=\"edge5\"><title>lab.Lab-&gt;lab.Study</title>\n",
       "<path d=\"M145,-144.411C145,-133.414 145,-119.027 145,-107.956\" fill=\"none\" stroke=\"#000000\" stroke-dasharray=\"5,2\" stroke-opacity=\"0.250980\" stroke-width=\"0.75\"/>\n",
       "</g>\n",
       "<!-- lab.Keyword -->\n",
       "<g class=\"node\" id=\"node8\"><title>lab.Keyword</title>\n",
       "<polygon fill=\"#000000\" fill-opacity=\"0.125490\" points=\"267.272,-107.5 196.728,-107.5 196.728,-72.5 267.272,-72.5 267.272,-107.5\" stroke=\"none\"/>\n",
       "<text font-family=\"arial\" font-size=\"10.00\" text-anchor=\"middle\" x=\"232\" y=\"-87.7495\">lab.Keyword</text>\n",
       "</g>\n",
       "<!-- lab.Keyword&#45;&gt;lab.StudyKeyword -->\n",
       "<g class=\"edge\" id=\"edge6\"><title>lab.Keyword-&gt;lab.StudyKeyword</title>\n",
       "<path d=\"M229.393,-72.411C227.665,-61.4141 225.404,-47.0274 223.665,-35.9562\" fill=\"none\" stroke=\"#000000\" stroke-opacity=\"0.250980\" stroke-width=\"0.75\"/>\n",
       "</g>\n",
       "</g>\n",
       "</svg>"
      ],
      "text/plain": [
       "<datajoint.erd.ERD at 0x10cbb7fd0>"
      ]
     },
     "execution_count": 5,
     "metadata": {},
     "output_type": "execute_result"
    }
   ],
   "source": [
    "dj.ERD(schema)+dj.ERD(lab)"
   ]
  },
  {
   "cell_type": "code",
   "execution_count": 6,
   "metadata": {},
   "outputs": [
    {
     "ename": "TypeError",
     "evalue": "object of type 'bool' has no len()",
     "output_type": "error",
     "traceback": [
      "\u001b[0;31m---------------------------------------------------------------------------\u001b[0m",
      "\u001b[0;31mTypeError\u001b[0m                                 Traceback (most recent call last)",
      "\u001b[0;32m<ipython-input-6-1577fb6cd18d>\u001b[0m in \u001b[0;36m<module>\u001b[0;34m()\u001b[0m\n\u001b[1;32m      1\u001b[0m \u001b[0;34m@\u001b[0m\u001b[0mschema\u001b[0m\u001b[0;34m\u001b[0m\u001b[0m\n\u001b[0;32m----> 2\u001b[0;31m \u001b[0;32mclass\u001b[0m \u001b[0mSession\u001b[0m\u001b[0;34m(\u001b[0m\u001b[0mdj\u001b[0m\u001b[0;34m.\u001b[0m\u001b[0mManual\u001b[0m\u001b[0;34m)\u001b[0m\u001b[0;34m:\u001b[0m\u001b[0;34m\u001b[0m\u001b[0m\n\u001b[0m\u001b[1;32m      3\u001b[0m     definition = \"\"\"\n\u001b[1;32m      4\u001b[0m     \u001b[0;34m->\u001b[0m \u001b[0mlab\u001b[0m\u001b[0;34m.\u001b[0m\u001b[0mSubject\u001b[0m\u001b[0;34m\u001b[0m\u001b[0m\n\u001b[1;32m      5\u001b[0m     \u001b[0;34m-\u001b[0m\u001b[0;34m-\u001b[0m\u001b[0;34m-\u001b[0m\u001b[0;34m\u001b[0m\u001b[0m\n",
      "\u001b[0;32m~/dev/datajoint-python/datajoint/schema.py\u001b[0m in \u001b[0;36m__call__\u001b[0;34m(self, cls)\u001b[0m\n\u001b[1;32m    194\u001b[0m             \u001b[0mcls\u001b[0m\u001b[0;34m.\u001b[0m\u001b[0m__name__\u001b[0m\u001b[0;34m:\u001b[0m \u001b[0mcls\u001b[0m\u001b[0;34m,\u001b[0m\u001b[0;34m\u001b[0m\u001b[0m\n\u001b[1;32m    195\u001b[0m             'self': cls}\n\u001b[0;32m--> 196\u001b[0;31m         \u001b[0mself\u001b[0m\u001b[0;34m.\u001b[0m\u001b[0mprocess_relation_class\u001b[0m\u001b[0;34m(\u001b[0m\u001b[0mcls\u001b[0m\u001b[0;34m,\u001b[0m \u001b[0mcontext\u001b[0m\u001b[0;34m=\u001b[0m\u001b[0mdict\u001b[0m\u001b[0;34m(\u001b[0m\u001b[0mself\u001b[0m\u001b[0;34m.\u001b[0m\u001b[0mcontext\u001b[0m\u001b[0;34m,\u001b[0m \u001b[0;34m**\u001b[0m\u001b[0mext\u001b[0m\u001b[0;34m)\u001b[0m\u001b[0;34m)\u001b[0m\u001b[0;34m\u001b[0m\u001b[0m\n\u001b[0m\u001b[1;32m    197\u001b[0m \u001b[0;34m\u001b[0m\u001b[0m\n\u001b[1;32m    198\u001b[0m         \u001b[0;31m# Process part relations\u001b[0m\u001b[0;34m\u001b[0m\u001b[0;34m\u001b[0m\u001b[0m\n",
      "\u001b[0;32m~/dev/datajoint-python/datajoint/schema.py\u001b[0m in \u001b[0;36mprocess_relation_class\u001b[0;34m(self, relation_class, context, assert_declared)\u001b[0m\n\u001b[1;32m    170\u001b[0m                 \u001b[0;32mraise\u001b[0m \u001b[0mDataJointError\u001b[0m\u001b[0;34m(\u001b[0m\u001b[0;34m'Table not declared %s'\u001b[0m \u001b[0;34m%\u001b[0m \u001b[0minstance\u001b[0m\u001b[0;34m.\u001b[0m\u001b[0mtable_name\u001b[0m\u001b[0;34m)\u001b[0m\u001b[0;34m\u001b[0m\u001b[0m\n\u001b[1;32m    171\u001b[0m             \u001b[0;32melse\u001b[0m\u001b[0;34m:\u001b[0m\u001b[0;34m\u001b[0m\u001b[0m\n\u001b[0;32m--> 172\u001b[0;31m                 \u001b[0minstance\u001b[0m\u001b[0;34m.\u001b[0m\u001b[0mdeclare\u001b[0m\u001b[0;34m(\u001b[0m\u001b[0;34m)\u001b[0m\u001b[0;34m\u001b[0m\u001b[0m\n\u001b[0m\u001b[1;32m    173\u001b[0m \u001b[0;34m\u001b[0m\u001b[0m\n\u001b[1;32m    174\u001b[0m         \u001b[0;31m# fill values in Lookup tables from their contents property\u001b[0m\u001b[0;34m\u001b[0m\u001b[0;34m\u001b[0m\u001b[0m\n",
      "\u001b[0;32m~/dev/datajoint-python/datajoint/base_relation.py\u001b[0m in \u001b[0;36mdeclare\u001b[0;34m(self)\u001b[0m\n\u001b[1;32m     53\u001b[0m         \u001b[0;32mtry\u001b[0m\u001b[0;34m:\u001b[0m\u001b[0;34m\u001b[0m\u001b[0m\n\u001b[1;32m     54\u001b[0m             self.connection.query(\n\u001b[0;32m---> 55\u001b[0;31m                 declare(self.full_table_name, self.definition, self._context))\n\u001b[0m\u001b[1;32m     56\u001b[0m         \u001b[0;32mexcept\u001b[0m \u001b[0mpymysql\u001b[0m\u001b[0;34m.\u001b[0m\u001b[0mOperationalError\u001b[0m \u001b[0;32mas\u001b[0m \u001b[0merror\u001b[0m\u001b[0;34m:\u001b[0m\u001b[0;34m\u001b[0m\u001b[0m\n\u001b[1;32m     57\u001b[0m             \u001b[0;32mif\u001b[0m \u001b[0merror\u001b[0m\u001b[0;34m.\u001b[0m\u001b[0margs\u001b[0m\u001b[0;34m[\u001b[0m\u001b[0;36m0\u001b[0m\u001b[0;34m]\u001b[0m \u001b[0;34m==\u001b[0m \u001b[0mserver_error_codes\u001b[0m\u001b[0;34m[\u001b[0m\u001b[0;34m'command denied'\u001b[0m\u001b[0;34m]\u001b[0m\u001b[0;34m:\u001b[0m\u001b[0;34m\u001b[0m\u001b[0m\n",
      "\u001b[0;32m~/dev/datajoint-python/datajoint/declare.py\u001b[0m in \u001b[0;36mdeclare\u001b[0;34m(full_table_name, definition, context)\u001b[0m\n\u001b[1;32m    124\u001b[0m             compile_foreign_key(line, context, attributes,\n\u001b[1;32m    125\u001b[0m                                 \u001b[0mprimary_key\u001b[0m \u001b[0;32mif\u001b[0m \u001b[0min_key\u001b[0m \u001b[0;32melse\u001b[0m \u001b[0;32mNone\u001b[0m\u001b[0;34m,\u001b[0m\u001b[0;34m\u001b[0m\u001b[0m\n\u001b[0;32m--> 126\u001b[0;31m                                 attribute_sql, foreign_key_sql)\n\u001b[0m\u001b[1;32m    127\u001b[0m         \u001b[0;32melif\u001b[0m \u001b[0mre\u001b[0m\u001b[0;34m.\u001b[0m\u001b[0mmatch\u001b[0m\u001b[0;34m(\u001b[0m\u001b[0;34mr'^(unique\\s+)?index[^:]*$'\u001b[0m\u001b[0;34m,\u001b[0m \u001b[0mline\u001b[0m\u001b[0;34m,\u001b[0m \u001b[0mre\u001b[0m\u001b[0;34m.\u001b[0m\u001b[0mI\u001b[0m\u001b[0;34m)\u001b[0m\u001b[0;34m:\u001b[0m   \u001b[0;31m# index\u001b[0m\u001b[0;34m\u001b[0m\u001b[0m\n\u001b[1;32m    128\u001b[0m             \u001b[0mindex_sql\u001b[0m\u001b[0;34m.\u001b[0m\u001b[0mappend\u001b[0m\u001b[0;34m(\u001b[0m\u001b[0mline\u001b[0m\u001b[0;34m)\u001b[0m  \u001b[0;31m# the SQL syntax is identical to DataJoint's\u001b[0m\u001b[0;34m\u001b[0m\u001b[0m\n",
      "\u001b[0;32m~/dev/datajoint-python/datajoint/declare.py\u001b[0m in \u001b[0;36mcompile_foreign_key\u001b[0;34m(line, context, attributes, primary_key, attr_sql, foreign_key_sql)\u001b[0m\n\u001b[1;32m     80\u001b[0m     \u001b[0mnew_attrs\u001b[0m \u001b[0;34m=\u001b[0m \u001b[0mresult\u001b[0m\u001b[0;34m.\u001b[0m\u001b[0mnew_attrs\u001b[0m \u001b[0;32mif\u001b[0m \u001b[0mresult\u001b[0m\u001b[0;34m.\u001b[0m\u001b[0mnews_attrs\u001b[0m \u001b[0;32melse\u001b[0m \u001b[0mmissing_attrs\u001b[0m\u001b[0;34m\u001b[0m\u001b[0m\n\u001b[1;32m     81\u001b[0m     \u001b[0mref_attrs\u001b[0m \u001b[0;34m=\u001b[0m \u001b[0mresult\u001b[0m\u001b[0;34m.\u001b[0m\u001b[0mref_attrs\u001b[0m \u001b[0;32mif\u001b[0m \u001b[0mresult\u001b[0m\u001b[0;34m.\u001b[0m\u001b[0mref_attrs\u001b[0m \u001b[0;32melse\u001b[0m \u001b[0mmissing_attrs\u001b[0m\u001b[0;34m\u001b[0m\u001b[0m\n\u001b[0;32m---> 82\u001b[0;31m     \u001b[0;32mif\u001b[0m \u001b[0mlen\u001b[0m\u001b[0;34m(\u001b[0m\u001b[0mnew_attrs\u001b[0m\u001b[0;34m)\u001b[0m \u001b[0;34m!=\u001b[0m \u001b[0mlen\u001b[0m\u001b[0;34m(\u001b[0m\u001b[0mref_attrs\u001b[0m\u001b[0;34m)\u001b[0m\u001b[0;34m:\u001b[0m\u001b[0;34m\u001b[0m\u001b[0m\n\u001b[0m\u001b[1;32m     83\u001b[0m         \u001b[0;32mraise\u001b[0m \u001b[0mDataJointError\u001b[0m\u001b[0;34m(\u001b[0m\u001b[0;34m'Mismatched attributes in foreign key \"%s\"'\u001b[0m \u001b[0;34m%\u001b[0m \u001b[0mline\u001b[0m\u001b[0;34m)\u001b[0m\u001b[0;34m\u001b[0m\u001b[0m\n\u001b[1;32m     84\u001b[0m \u001b[0;34m\u001b[0m\u001b[0m\n",
      "\u001b[0;31mTypeError\u001b[0m: object of type 'bool' has no len()"
     ]
    }
   ],
   "source": [
    "@schema\n",
    "class Session(dj.Manual):\n",
    "    definition = \"\"\"\n",
    "    -> lab.Subject\n",
    "    ---\n",
    "    -> Prep\n",
    "    -> lab.Study\n",
    "    session_date       : date         # session date \n",
    "    session_suffix     : char(1)      # suffix for disambiguating sessions \n",
    "    experimenter       : varchar(60)  # experimenter's name\n",
    "    session_start_time : timestamp  \n",
    "    raw_data_path      : varchar(255) # File path to raw data -- transform to external\n",
    "    recording_type     : varchar(8)   # e.g. acute   \n",
    "    \"\"\""
   ]
  },
  {
   "cell_type": "code",
   "execution_count": 9,
   "metadata": {},
   "outputs": [
    {
     "data": {
      "text/plain": [
       "[1, 2, 3]"
      ]
     },
     "execution_count": 9,
     "metadata": {},
     "output_type": "execute_result"
    }
   ],
   "source": [
    "[] or [1,2,3]"
   ]
  },
  {
   "cell_type": "code",
   "execution_count": null,
   "metadata": {
    "collapsed": true
   },
   "outputs": [],
   "source": []
  }
 ],
 "metadata": {
  "kernelspec": {
   "display_name": "Python 3",
   "language": "python",
   "name": "python3"
  },
  "language_info": {
   "codemirror_mode": {
    "name": "ipython",
    "version": 3
   },
   "file_extension": ".py",
   "mimetype": "text/x-python",
   "name": "python",
   "nbconvert_exporter": "python",
   "pygments_lexer": "ipython3",
   "version": "3.6.0"
  }
 },
 "nbformat": 4,
 "nbformat_minor": 2
}
